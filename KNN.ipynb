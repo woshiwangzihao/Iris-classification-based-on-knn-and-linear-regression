{
 "cells": [
  {
   "cell_type": "code",
   "execution_count": 1,
   "id": "e87ff21c",
   "metadata": {},
   "outputs": [
    {
     "name": "stdout",
     "output_type": "stream",
     "text": [
      "距离所有A类数据的距离为：\n",
      "[4.301162633521313, 1.3928388277184118, 2.5495097567963922, 1.6552945357246849, 2.5317977802344327]\n",
      "距离所有B类数据的距离为：\n",
      "[2.5079872407968904, 2.5179356624028344, 0.7071067811865476, 3.080584360149872]\n",
      "\n",
      "对所有的距离升序排序：\n",
      "[0.7071067811865476, 1.3928388277184118, 1.6552945357246849, 2.5079872407968904, 2.5179356624028344, 2.5317977802344327, 2.5495097567963922, 3.080584360149872, 4.301162633521313]\n",
      "\n",
      "最终结果：\n",
      "距离待测数据最近的K=5个数据中，A类数据有2个，B类数据有3个\n",
      "所以K=5时，待测数据划分为B类\n"
     ]
    },
    {
     "name": "stderr",
     "output_type": "stream",
     "text": [
      "C:\\Users\\DELL\\AppData\\Local\\Temp\\ipykernel_16664\\1574911908.py:69: UserWarning: color is redundantly defined by the 'color' keyword argument and the fmt string \"bo\" (-> color='b'). The keyword argument will take precedence.\n",
      "  plt.plot(data_A[i][0],data_A[i][1],'bo',color='red')\n",
      "C:\\Users\\DELL\\AppData\\Local\\Temp\\ipykernel_16664\\1574911908.py:71: UserWarning: color is redundantly defined by the 'color' keyword argument and the fmt string \"bo\" (-> color='b'). The keyword argument will take precedence.\n",
      "  plt.plot(data_A[i][0],data_A[i][1],'bo',label='A',color='r')\n",
      "C:\\Users\\DELL\\AppData\\Local\\Temp\\ipykernel_16664\\1574911908.py:75: UserWarning: color is redundantly defined by the 'color' keyword argument and the fmt string \"bo\" (-> color='b'). The keyword argument will take precedence.\n",
      "  plt.plot(data_B[i][0],data_B[i][1],'bo',color='blue')\n",
      "C:\\Users\\DELL\\AppData\\Local\\Temp\\ipykernel_16664\\1574911908.py:77: UserWarning: color is redundantly defined by the 'color' keyword argument and the fmt string \"bo\" (-> color='b'). The keyword argument will take precedence.\n",
      "  plt.plot(data_B[i][0],data_B[i][1],'bo',label='B',color='b')\n",
      "C:\\Users\\DELL\\AppData\\Local\\Temp\\ipykernel_16664\\1574911908.py:78: UserWarning: color is redundantly defined by the 'color' keyword argument and the fmt string \"bo\" (-> color='b'). The keyword argument will take precedence.\n",
      "  plt.plot(test_data[0][0],test_data[0][1],'bo',label='待测数据',color='g')#测试集\n"
     ]
    },
    {
     "data": {
      "image/png": "[encoded data removed]",
      "text/plain": [
       "<Figure size 640x480 with 1 Axes>"
      ]
     },
     "metadata": {},
     "output_type": "display_data"
    }
   ],
   "source": [
    "import matplotlib.pyplot as plt\n",
    "import matplotlib\n",
    "from math import sqrt\n",
    "\n",
    "#############################初始化数据集###################################\n",
    "data_A = [[1,2],[3.2,4],[4,7],[5.2,3],[7,4.1]]#数据集A\n",
    "data_B = [[2.2,5.5],[4.2,2],[5,5],[6.3,7]]#数据集B\n",
    "test_data = [[4.5,4.5]]#测试集\n",
    "len_A = len(data_A)\n",
    "len_B = len(data_B)\n",
    "\n",
    "############################计算距离并排序####################################\n",
    "distance_A = []#与A类数据之间的距离\n",
    "distance_B = []#与B类数据之间的距离\n",
    "distance = []#全部距离\n",
    "#计算距离（使用欧氏距离）\n",
    "for i in range(len_A):\n",
    "    d = sqrt((test_data[0][0]-data_A[i][0])**2+(test_data[0][1]-data_A[i][1])**2)\n",
    "    distance_A.append(d)\n",
    "for i in range(len_B):\n",
    "    d = sqrt((test_data[0][0]-data_B[i][0])**2+(test_data[0][1]-data_B[i][1])**2)\n",
    "    distance_B.append(d)\n",
    "#由小到大排序（此处使用冒泡排序）\n",
    "distance = distance_A + distance_B\n",
    "for i in range(len(distance)-1):\n",
    "    for j in range(len(distance)-i-1):\n",
    "        if distance[j] > distance[j+1]:\n",
    "            distance[j],distance[j+1]=distance[j+1],distance[j]\n",
    "print(\"距离所有A类数据的距离为：\")\n",
    "print(distance_A)\n",
    "print(\"距离所有B类数据的距离为：\")\n",
    "print(distance_B)\n",
    "print()\n",
    "print(\"对所有的距离升序排序：\")\n",
    "print(distance)\n",
    "print()\n",
    "\n",
    "######################按K最近领对测试集进行分类##################################\n",
    "K = 5#这里默认K值为5，也可以自行更改\n",
    "number_A = 0\n",
    "number_B = 0\n",
    "#定义删除函数，避免对同一个数据重复计算\n",
    "def delete(a,b,ls):\n",
    "    for i in range(b):\n",
    "        if ls[i]==a:\n",
    "            ls.pop(i)\n",
    "            break\n",
    "#找出与测试数据最接近的K个点\n",
    "for i in range(K):\n",
    "    if distance[i] in distance_A:\n",
    "        number_A += 1\n",
    "        delete(distance[i],len(distance_A),distance_A)\n",
    "        continue\n",
    "    if distance[i] in distance_B:\n",
    "        number_B += 1\n",
    "        delete(distance[i],len(distance_B),distance_B)\n",
    "        continue\n",
    "print(\"最终结果：\")\n",
    "print(\"距离待测数据最近的K={:}个数据中，A类数据有{:}个，B类数据有{:}个\".format(K,number_A,number_B))\n",
    "if number_A > number_B:\n",
    "    print(\"所以K={:}时，待测数据划分为A类\".format(K))\n",
    "else:\n",
    "    print(\"所以K={:}时，待测数据划分为B类\".format(K))\n",
    "\n",
    "#################################画图##########################################\n",
    "matplotlib.rcParams['font.sans-serif'] = ['SimHei']\n",
    "for i in range(len_A):#A类，用红色三角形表示\n",
    "    if i!=len_A-1:\n",
    "        plt.plot(data_A[i][0],data_A[i][1],'bo',color='red')\n",
    "    else:\n",
    "        plt.plot(data_A[i][0],data_A[i][1],'bo',label='A',color='r')\n",
    "    #使用if..else...是为了避免在图形中重复出现多个标签\n",
    "for i in range(len_B):#B类，用蓝色正方形表示\n",
    "    if i!=len_B-1:\n",
    "        plt.plot(data_B[i][0],data_B[i][1],'bo',color='blue')\n",
    "    else:\n",
    "        plt.plot(data_B[i][0],data_B[i][1],'bo',label='B',color='b')\n",
    "plt.plot(test_data[0][0],test_data[0][1],'bo',label='待测数据',color='g')#测试集\n",
    "plt.xlim(0,10)\n",
    "plt.ylim(0,10)\n",
    "plt.legend()\n",
    "plt.show()"
   ]
  },
  {
   "cell_type": "code",
   "execution_count": null,
   "id": "16729c85",
   "metadata": {},
   "outputs": [],
   "source": []
  }
 ],
 "metadata": {
  "kernelspec": {
   "display_name": "Python [conda env:.conda-pytorch] *",
   "language": "python",
   "name": "conda-env-.conda-pytorch-py"
  },
  "language_info": {
   "codemirror_mode": {
    "name": "ipython",
    "version": 3
   },
   "file_extension": ".py",
   "mimetype": "text/x-python",
   "name": "python",
   "nbconvert_exporter": "python",
   "pygments_lexer": "ipython3",
   "version": "3.10.9"
  }
 },
 "nbformat": 4,
 "nbformat_minor": 5
}
